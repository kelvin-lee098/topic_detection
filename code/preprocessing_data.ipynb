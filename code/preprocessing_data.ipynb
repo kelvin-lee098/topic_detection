{
 "cells": [
  {
   "cell_type": "code",
   "execution_count": 1,
   "metadata": {},
   "outputs": [
    {
     "data": {
      "text/plain": [
       "'\\n    Su dung thu vien VnCoreNLP de tokenize word\\n    link github: https://github.com/vncorenlp/VnCoreNLP\\n'"
      ]
     },
     "execution_count": 1,
     "metadata": {},
     "output_type": "execute_result"
    }
   ],
   "source": [
    "'''\n",
    "    Su dung thu vien VnCoreNLP de tokenize word\n",
    "    link github: https://github.com/vncorenlp/VnCoreNLP\n",
    "'''\n",
    "#vncorenlp -Xmx2g \"/home/khanhld/Documents/DATA_MINING/data-mining/data_mining/VnCoreNLP/VnCoreNLP-1.1.jar\" -p 9000 -a \"wseg,pos,ner,parse\"\n"
   ]
  },
  {
   "cell_type": "code",
   "execution_count": 1,
   "metadata": {},
   "outputs": [],
   "source": [
    "import re \n",
    "import pandas as pd\n",
    "from vncorenlp import VnCoreNLP"
   ]
  },
  {
   "cell_type": "code",
   "execution_count": 18,
   "metadata": {},
   "outputs": [],
   "source": [
    "# read data\n",
    "data = [line.rstrip('\\n') for line in open('../data/train/data.txt')]\n",
    "#read stop word\n",
    "stop_words = [line.rstrip('\\n') for line in open('../data/stopword/stop_words.txt')]"
   ]
  },
  {
   "cell_type": "code",
   "execution_count": 19,
   "metadata": {},
   "outputs": [
    {
     "name": "stdout",
     "output_type": "stream",
     "text": [
      "﻿Gấp ; Hiện bên em đang cần thuê 1 phòng có Diện tích từ 25m đến 40m , tại khu vực Yên lãng , ngã tư sở hoặc xung quanh không quá 3km , giá thuê từ 5 đến 7tr , anh chị nào có giới thiệu em với , em xin cảm ơn .\n"
     ]
    }
   ],
   "source": [
    "print(data[0]) # check data"
   ]
  },
  {
   "cell_type": "code",
   "execution_count": 20,
   "metadata": {},
   "outputs": [
    {
     "name": "stdout",
     "output_type": "stream",
     "text": [
      "10017\n"
     ]
    }
   ],
   "source": [
    "print(len(data)) # check length data"
   ]
  },
  {
   "cell_type": "code",
   "execution_count": 5,
   "metadata": {},
   "outputs": [],
   "source": [
    "def clean_data(text):\n",
    "    text = text.lower()\n",
    "    text = re.sub('[^a-zA-Zàáãạảăắằẳẵặâấầẩẫậèéẹẻẽêềếểễệđìíĩỉịòóõọỏôốồổỗộơớờởỡợùúũụủưứừửữựỳỵỷỹýđ]+', ' ', text)\n",
    "    return text\n"
   ]
  },
  {
   "cell_type": "code",
   "execution_count": 6,
   "metadata": {},
   "outputs": [],
   "source": [
    "def tokenized_and_removeSW(content):\n",
    "    content_save = []\n",
    "    annotator = VnCoreNLP(address=\"http://127.0.0.1\", port=9000) \n",
    "\n",
    "    for i in range(len(content)):\n",
    "        tokenized = annotator.tokenize(content[i])\n",
    "        tokenized_removed = remove_stopword(tokenized[0])\n",
    "        content_save.append(\" \".join(tokenized_removed))\n",
    "    return content_save\n",
    "    "
   ]
  },
  {
   "cell_type": "code",
   "execution_count": 7,
   "metadata": {},
   "outputs": [],
   "source": [
    "def remove_stopword(text):\n",
    "    text_removed = []\n",
    "    for i in range(len(text)):\n",
    "        if text[i] not in stop_words:\n",
    "            text_removed.append(text[i])\n",
    "    return text_removed\n",
    "    "
   ]
  },
  {
   "cell_type": "code",
   "execution_count": 23,
   "metadata": {},
   "outputs": [],
   "source": [
    "def processing_train_Data(data):\n",
    "    label = []\n",
    "    content = []\n",
    "    for i in data:\n",
    "        t = i.split(None, 1)\n",
    "        t[0] = t[0].replace('__label__', '')\n",
    "        t[1] = clean_data(t[1])\n",
    "        label.append(t[0])\n",
    "        content.append(t[1])\n",
    "    return label, content"
   ]
  },
  {
   "cell_type": "code",
   "execution_count": 24,
   "metadata": {},
   "outputs": [],
   "source": [
    "label, content = processing_train_Data(data)"
   ]
  },
  {
   "cell_type": "code",
   "execution_count": null,
   "metadata": {},
   "outputs": [],
   "source": [
    "contents = tokenized_and_removeSW(content)"
   ]
  },
  {
   "cell_type": "code",
   "execution_count": 12,
   "metadata": {},
   "outputs": [],
   "source": [
    "#save data which tokenized and removed stop words\n",
    "dictt = {'content': contents, 'label':label}\n",
    "df = pd.DataFrame(dictt) \n",
    "df.to_csv('../data/train/data_removedStopWord.csv') "
   ]
  },
  {
   "cell_type": "code",
   "execution_count": 13,
   "metadata": {},
   "outputs": [],
   "source": [
    "################ preprocessing data for test ########################"
   ]
  },
  {
   "cell_type": "code",
   "execution_count": 2,
   "metadata": {},
   "outputs": [],
   "source": [
    "# read data\n",
    "test_data = [line.rstrip('\\n') for line in open('../data/test/test.txt')]\n",
    "#read stop word\n",
    "stop_words = [line.rstrip('\\n') for line in open('../data/stopword/stop_words.txt')]"
   ]
  },
  {
   "cell_type": "code",
   "execution_count": 3,
   "metadata": {},
   "outputs": [],
   "source": [
    "def processing_test_Data(data):\n",
    "    content = []\n",
    "    for i in data:\n",
    "        t = clean_data(i)\n",
    "        content.append(t)\n",
    "    return content"
   ]
  },
  {
   "cell_type": "code",
   "execution_count": 8,
   "metadata": {},
   "outputs": [],
   "source": [
    "test_content = processing_test_Data(test_data)\n",
    "test_contents = tokenized_and_removeSW(test_content)"
   ]
  },
  {
   "cell_type": "code",
   "execution_count": 11,
   "metadata": {},
   "outputs": [],
   "source": [
    "#save test data which tokenized and removed stop words\n",
    "dictt = {'content': test_contents}\n",
    "df = pd.DataFrame(dictt) \n",
    "df.to_csv('../data/test/test_data_removedStopWord.csv') "
   ]
  }
 ],
 "metadata": {
  "kernelspec": {
   "display_name": "Python 3",
   "language": "python",
   "name": "python3"
  },
  "language_info": {
   "codemirror_mode": {
    "name": "ipython",
    "version": 3
   },
   "file_extension": ".py",
   "mimetype": "text/x-python",
   "name": "python",
   "nbconvert_exporter": "python",
   "pygments_lexer": "ipython3",
   "version": "3.6.8"
  }
 },
 "nbformat": 4,
 "nbformat_minor": 2
}
